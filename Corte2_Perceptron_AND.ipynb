{
  "nbformat": 4,
  "nbformat_minor": 0,
  "metadata": {
    "colab": {
      "provenance": [],
      "authorship_tag": "ABX9TyNklxGDwAD9OVUFp+0rZ3xl",
      "include_colab_link": true
    },
    "kernelspec": {
      "name": "python3",
      "display_name": "Python 3"
    },
    "language_info": {
      "name": "python"
    }
  },
  "cells": [
    {
      "cell_type": "markdown",
      "metadata": {
        "id": "view-in-github",
        "colab_type": "text"
      },
      "source": [
        "<a href=\"https://colab.research.google.com/github/JuanD-Pimiento/CursoIA_MECATRONICA/blob/main/Corte2_Perceptron_AND.ipynb\" target=\"_parent\"><img src=\"https://colab.research.google.com/assets/colab-badge.svg\" alt=\"Open In Colab\"/></a>"
      ]
    },
    {
      "cell_type": "markdown",
      "source": [
        "#Perceptron"
      ],
      "metadata": {
        "id": "FKPzYI-rxGOQ"
      }
    },
    {
      "cell_type": "markdown",
      "source": [
        "##Librerias"
      ],
      "metadata": {
        "id": "nKhEdwDoxI1P"
      }
    },
    {
      "cell_type": "code",
      "source": [
        "import numpy as np\n",
        "import matplotlib.pyplot as plt"
      ],
      "metadata": {
        "id": "fb91d92zxKc3"
      },
      "execution_count": null,
      "outputs": []
    },
    {
      "cell_type": "markdown",
      "source": [
        "##Data set: Tabla de verdad compuerta AND"
      ],
      "metadata": {
        "id": "gV_UUwNqx2fe"
      }
    },
    {
      "cell_type": "code",
      "execution_count": null,
      "metadata": {
        "id": "n8tp94dzw02G"
      },
      "outputs": [],
      "source": [
        "inputs = np.array([[0,0],[0,1],[1,0],[1,1]])\n",
        "outputs = np.array([0,0,0,1])"
      ]
    },
    {
      "cell_type": "code",
      "source": [
        "plt.figure(figsize=(2,2))\n",
        "plt.scatter(inputs[:,0],inputs[:,1],marker=\"o\",c=outputs,edgecolors=\"k\")\n",
        "plt.xlabel('A')\n",
        "plt.ylabel('B')\n",
        "plt.show()"
      ],
      "metadata": {
        "colab": {
          "base_uri": "https://localhost:8080/",
          "height": 234
        },
        "id": "uSehh82Ryax_",
        "outputId": "59f31653-5bce-44b2-9cfc-5ab9550ba69e"
      },
      "execution_count": null,
      "outputs": [
        {
          "output_type": "display_data",
          "data": {
            "text/plain": [
              "<Figure size 200x200 with 1 Axes>"
            ],
            "image/png": "[encoded data removed]"
          },
          "metadata": {}
        }
      ]
    },
    {
      "cell_type": "markdown",
      "source": [
        "##Parámetros\n",
        "\n",
        "\n",
        "*   Pesos (w vector)\n",
        "*   Bias (b)\n",
        "*   Razón de aprendizaje\n",
        "\n"
      ],
      "metadata": {
        "id": "uIn2ngynzKsx"
      }
    },
    {
      "cell_type": "code",
      "source": [
        "w = np.random.rand(2)\n",
        "b = np.random.rand(1)\n",
        "lr = 0.1\n",
        "w,b, lr"
      ],
      "metadata": {
        "colab": {
          "base_uri": "https://localhost:8080/"
        },
        "id": "s0gmMa2lzhwV",
        "outputId": "5c1db4cc-ffa8-4d21-914e-1e916f90ef33"
      },
      "execution_count": null,
      "outputs": [
        {
          "output_type": "execute_result",
          "data": {
            "text/plain": [
              "(array([0.51573517, 0.49320248]), array([0.44533632]), 0.1)"
            ]
          },
          "metadata": {},
          "execution_count": 33
        }
      ]
    },
    {
      "cell_type": "markdown",
      "source": [
        "##Modelo"
      ],
      "metadata": {
        "id": "W1jWzjHx0D6L"
      }
    },
    {
      "cell_type": "code",
      "source": [
        "#Definir función de predicción\n",
        "def predict(x):\n",
        "  linear_sum = np.dot(x,w)+b\n",
        "  return np.where(linear_sum >= 0, 1, 0)\n",
        "  #return np.heaviside(linear_sum,0)"
      ],
      "metadata": {
        "id": "7B1rol7a0FSn"
      },
      "execution_count": null,
      "outputs": []
    },
    {
      "cell_type": "code",
      "source": [
        "predict(inputs)"
      ],
      "metadata": {
        "colab": {
          "base_uri": "https://localhost:8080/"
        },
        "id": "XraIJcd-1UVe",
        "outputId": "16f84afe-954d-47d4-d02a-ab465db654f5"
      },
      "execution_count": null,
      "outputs": [
        {
          "output_type": "execute_result",
          "data": {
            "text/plain": [
              "array([1, 1, 1, 1])"
            ]
          },
          "metadata": {},
          "execution_count": 35
        }
      ]
    },
    {
      "cell_type": "code",
      "source": [
        "def train(inputs, outputs, lr, epocas):\n",
        "  global w,b\n",
        "  for epoca in epocas:\n",
        "    total_error = 0\n",
        "    for x,y in zip(inputs,outputs):\n",
        "      y_pred = predict(x)\n",
        "      error = y - y_pred\n",
        "      total_error += abs(error)\n",
        "      w += lr*error*x\n",
        "      b += lr*error\n",
        "    print(f\"Epoca: {epoca}, Error: {total_error}, Pesos: {w}, Bias: {b}\")"
      ],
      "metadata": {
        "id": "exP42kea1gkA"
      },
      "execution_count": null,
      "outputs": []
    },
    {
      "cell_type": "code",
      "source": [
        "def error(inputs, outputs,last_epoc):\n",
        "  total_error = 0\n",
        "  for x,y in zip(inputs,outputs):\n",
        "    y_pred = predict(x)\n",
        "    error = y - y_pred\n",
        "    total_error += abs(error)\n",
        "  print(f\"Para la última epoca({last_epoc}), Error: {total_error}\")"
      ],
      "metadata": {
        "id": "xjAkQMG-7U-n"
      },
      "execution_count": null,
      "outputs": []
    },
    {
      "cell_type": "code",
      "source": [
        "train(inputs, outputs, lr, range(3))\n",
        "error(inputs, outputs,4)"
      ],
      "metadata": {
        "colab": {
          "base_uri": "https://localhost:8080/"
        },
        "id": "zWbtUbqB3Wmv",
        "outputId": "8b8449a5-7e73-48aa-c236-6b918476d3ee"
      },
      "execution_count": null,
      "outputs": [
        {
          "output_type": "stream",
          "name": "stdout",
          "text": [
            "Epoca: 0, Error: [0], Pesos: [0.21573517 0.19320248], Bias: [-0.35466368]\n",
            "Epoca: 1, Error: [0], Pesos: [0.21573517 0.19320248], Bias: [-0.35466368]\n",
            "Epoca: 2, Error: [0], Pesos: [0.21573517 0.19320248], Bias: [-0.35466368]\n",
            "Para la última epoca(4), Error: [0]\n"
          ]
        }
      ]
    },
    {
      "cell_type": "markdown",
      "source": [
        "##Gráfica de límite de decisión"
      ],
      "metadata": {
        "id": "ozCOFI9X4XUQ"
      }
    },
    {
      "cell_type": "code",
      "source": [
        "A_Ld=np.array([-0.5, 0, 0.5, 1, 1.5])\n",
        "B_Ld=((-w[0]*A_Ld)-b)/w[1]\n",
        "A_Ld,B_Ld"
      ],
      "metadata": {
        "colab": {
          "base_uri": "https://localhost:8080/"
        },
        "id": "TZD3Y_r241I0",
        "outputId": "9bc1f5d3-d528-4c6d-bb9e-92762f49d1f5"
      },
      "execution_count": null,
      "outputs": [
        {
          "output_type": "execute_result",
          "data": {
            "text/plain": [
              "(array([-0.5,  0. ,  0.5,  1. ,  1.5]),\n",
              " array([2.39402337, 1.83570971, 1.27739605, 0.71908239, 0.16076874]))"
            ]
          },
          "metadata": {},
          "execution_count": 38
        }
      ]
    },
    {
      "cell_type": "code",
      "source": [
        "plt.plot(A_Ld,B_Ld)\n",
        "plt.scatter(inputs[:,0],inputs[:,1],marker=\"o\",c=outputs,edgecolors=\"k\")\n",
        "plt.xlabel('A')\n",
        "plt.ylabel('B')"
      ],
      "metadata": {
        "colab": {
          "base_uri": "https://localhost:8080/",
          "height": 470
        },
        "id": "2AWuHU1C5UcJ",
        "outputId": "3ba0bf72-b5ef-4257-f555-71cddfb8f569"
      },
      "execution_count": null,
      "outputs": [
        {
          "output_type": "execute_result",
          "data": {
            "text/plain": [
              "Text(0, 0.5, 'B')"
            ]
          },
          "metadata": {},
          "execution_count": 39
        },
        {
          "output_type": "display_data",
          "data": {
            "text/plain": [
              "<Figure size 640x480 with 1 Axes>"
            ],
            "image/png": "[encoded data removed]"
          },
          "metadata": {}
        }
      ]
    }
  ]
}